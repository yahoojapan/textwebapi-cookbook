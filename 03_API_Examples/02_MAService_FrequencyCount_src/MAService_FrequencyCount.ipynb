{
 "cells": [
  {
   "cell_type": "code",
   "execution_count": null,
   "id": "aca531b5-fed2-4ded-9a11-62e081502403",
   "metadata": {
    "tags": []
   },
   "outputs": [],
   "source": [
    "import pandas as pd\n",
    "import json\n",
    "from urllib import request\n",
    "import japanize_matplotlib"
   ]
  },
  {
   "cell_type": "code",
   "execution_count": null,
   "id": "6ee40a16-5247-43b9-9a80-a7c58b8347c1",
   "metadata": {
    "tags": []
   },
   "outputs": [],
   "source": [
    "APPID = \"あなたの Client ID（アプリケーション ID）\"\n",
    "URL = \"https://jlp.yahooapis.jp/MAService/V2/parse\"\n",
    "headers = {\n",
    "    \"Content-Type\": \"application/json\",\n",
    "    \"User-Agent\": \"Yahoo AppID: {}\".format(APPID),\n",
    "}\n",
    "param_dic = {\n",
    "    \"id\": \"1234-1\",\n",
    "    \"jsonrpc\": \"2.0\",\n",
    "    \"params\": {}\n",
    "}\n",
    "def ma(query):\n",
    "    param_dic['params']['q'] = query\n",
    "    param_dic['method'] = \"jlp.maservice.parse\"\n",
    "    params = json.dumps(param_dic).encode()\n",
    "    req = request.Request(URL, params, headers)\n",
    "    with request.urlopen(req) as res:\n",
    "        body = res.read()\n",
    "    return body.decode()"
   ]
  },
  {
   "cell_type": "code",
   "execution_count": null,
   "id": "e6f06a24-a47c-4ef4-996b-068de45660b6",
   "metadata": {
    "tags": []
   },
   "outputs": [],
   "source": [
    "# 日本語テキストを渡して形態素解析します\n",
    "text = \"国会は、国権の最高機関であって、国の唯一の立法機関である。\\\n",
    "国会は、衆議院及び参議院の両議院でこれを構成する。\\\n",
    "両議院は、全国民を代表する選挙された議員でこれを組織する。\\\n",
    "両議院の議員の定数は、法律でこれを定める。\\\n",
    "両議院の議員及びその選挙人の資格は、法律でこれを定める。\\\n",
    "但し、人種、信条、性別、社会的身分、門地、教育、財産又は収入によって差別してはならない。\"\n",
    "response = ma(text)\n",
    "\n",
    "# 解析結果の JSON 文字列をオブジェクトに変換します\n",
    "obj = json.loads(response)"
   ]
  },
  {
   "cell_type": "code",
   "execution_count": null,
   "id": "35698183-95cc-4cc5-939c-47365950c4f0",
   "metadata": {
    "tags": []
   },
   "outputs": [],
   "source": [
    "# 解析結果の形態素情報部分を DataFrame にします\n",
    "df = pd.DataFrame(\n",
    "    obj['result']['tokens'],\n",
    "    columns=['表記','読み','基本形','品詞','品詞細分類','活用型','活用形']\n",
    ")\n",
    "df.head()"
   ]
  },
  {
   "cell_type": "code",
   "execution_count": null,
   "id": "9acb2960-cc1a-4d7c-8617-a410b4d2d327",
   "metadata": {
    "tags": []
   },
   "outputs": [],
   "source": [
    "# 品詞別出現頻度（降順5件）\n",
    "df['品詞'].value_counts().head()"
   ]
  },
  {
   "cell_type": "code",
   "execution_count": null,
   "id": "41e8f0c1-c6b4-4d30-b038-fe948fb4c10a",
   "metadata": {
    "tags": []
   },
   "outputs": [],
   "source": [
    "# 品詞別出現頻度グラフ\n",
    "df['品詞'].value_counts().plot.pie(label='')"
   ]
  },
  {
   "cell_type": "code",
   "execution_count": null,
   "id": "fe36707c-3063-4ad3-9518-116ef8ba69e8",
   "metadata": {
    "tags": []
   },
   "outputs": [],
   "source": [
    "# 名詞出現頻度（降順5件）\n",
    "df[df['品詞'] == '名詞']['表記'].value_counts().head()"
   ]
  },
  {
   "cell_type": "code",
   "execution_count": null,
   "id": "7c12990a-359f-47d2-a24c-2fbf8274752a",
   "metadata": {
    "tags": []
   },
   "outputs": [],
   "source": [
    "# 名詞出現頻度グラフ\n",
    "df[df['品詞'] == '名詞']['表記'].value_counts().plot.bar()\n"
   ]
  }
 ],
 "metadata": {
  "kernelspec": {
   "display_name": "Python 3 (ipykernel)",
   "language": "python",
   "name": "python3"
  },
  "language_info": {
   "codemirror_mode": {
    "name": "ipython",
    "version": 3
   },
   "file_extension": ".py",
   "mimetype": "text/x-python",
   "name": "python",
   "nbconvert_exporter": "python",
   "pygments_lexer": "ipython3",
   "version": "3.8.8"
  }
 },
 "nbformat": 4,
 "nbformat_minor": 5
}
