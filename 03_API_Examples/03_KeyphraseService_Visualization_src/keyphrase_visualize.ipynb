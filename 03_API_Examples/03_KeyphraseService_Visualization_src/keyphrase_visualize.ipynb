{
 "cells": [
  {
   "cell_type": "markdown",
   "id": "819d991d-3dfb-4013-883b-9ebe5ea2172c",
   "metadata": {},
   "source": [
    "# キーフレーズ抽出の結果の可視化で紹介したコード\n"
   ]
  },
  {
   "cell_type": "markdown",
   "id": "61ca471c-2a67-4dd3-a7de-8c45e121745a",
   "metadata": {},
   "source": [
    "[03_KeyphraseService_Visualization.md](../03_KeyphraseService_Visualization.md) で紹介したコードです。\n"
   ]
  },
  {
   "cell_type": "markdown",
   "id": "0a626cd3-b2f9-466b-aed8-5fd74e9b1110",
   "metadata": {},
   "source": [
    "### 1. キーフレーズ抽出へのアクセスや可視化のコードを実行しましょう\n"
   ]
  },
  {
   "cell_type": "code",
   "execution_count": null,
   "id": "114196b4-4f70-4af0-9eb3-9e5e4eb7eb8e",
   "metadata": {},
   "outputs": [],
   "source": [
    "import json\n",
    "from urllib import request\n",
    "from IPython.display import HTML, display\n",
    "\n",
    "\n",
    "# キーフレーズ抽出の結果からキーフレーズとその重要度を取得する関数\n",
    "def extract_keyphrases(query: str) -> list[dict]:\n",
    "    client_id = \"あなたの Client ID（アプリケーション ID）\"\n",
    "    url = \"https://jlp.yahooapis.jp/KeyphraseService/V2/extract\"\n",
    "\n",
    "    headers = {\n",
    "        \"Content-Type\": \"application/json\",\n",
    "        \"User-Agent\": f\"Yahoo AppID: {client_id}\",\n",
    "    }\n",
    "\n",
    "    param_dic = {\n",
    "        \"id\": \"1234-1\",\n",
    "        \"jsonrpc\": \"2.0\",\n",
    "        \"params\": {\n",
    "            \"q\": query,\n",
    "        },\n",
    "        \"method\": \"jlp.keyphraseservice.extract\",\n",
    "    }\n",
    "\n",
    "    params = json.dumps(param_dic).encode()\n",
    "    req = request.Request(url, params, headers)\n",
    "\n",
    "    with request.urlopen(req) as res:\n",
    "        body = res.read()\n",
    "\n",
    "    return json.loads(body.decode())[\"result\"][\"phrases\"]\n",
    "\n",
    "\n",
    "# 入力テキストのキーフレーズを可視化する関数\n",
    "def visualize_keyphrase(text: str) -> None:\n",
    "    # テキスト全体を divタグで囲むことで、HTML化\n",
    "    # GitHub上での表示崩れを防ぐため、<と>をエスケープ\n",
    "    lt = \"<\"\n",
    "    gt = \">\"\n",
    "    display_text = f\"{lt}div{gt}{text}{lt}/div{gt}\"\n",
    "\n",
    "    # 入力テキストからキーフレーズとその重要度を取得\n",
    "    phrases = extract_keyphrases(text)\n",
    "\n",
    "    # CSSのrgbaメソッドを用いて、透明度を示すaを値をスコアに応じて変更しながら、背景に色を付ける\n",
    "    for phrase in phrases:\n",
    "        # キーフレーズ抽出のスコアのスケール(0~100)を、透明度を示すaのスケール(0~1)に合わせる\n",
    "        score = phrase[\"score\"] / 100\n",
    "        word = phrase[\"text\"]\n",
    "\n",
    "        # 対象キーフレーズを、色付けのためのタグで囲んで、文字列の置換を行う\n",
    "        emphasized_word = f\"{lt}span style='background-color: rgba(255, 0, 0, {score:.2f})'{gt}{word}{lt}/span{gt}\"\n",
    "        display_text = display_text.replace(word, emphasized_word)\n",
    "\n",
    "    display(HTML(display_text))\n"
   ]
  },
  {
   "cell_type": "markdown",
   "id": "4db1911f-001a-44b2-b211-75bc949a5bb4",
   "metadata": {},
   "source": [
    "（※）Client ID については[こちら](../../02_API_Specifications/00_Overview.md#client-id%E3%82%A2%E3%83%97%E3%83%AA%E3%82%B1%E3%83%BC%E3%82%B7%E3%83%A7%E3%83%B3id)をご覧ください。\n"
   ]
  },
  {
   "cell_type": "markdown",
   "id": "822e174a-2b54-41bc-93bb-237d09aa5948",
   "metadata": {},
   "source": [
    "### 2. 可視化したいテキストを指定して実行してみましょう\n"
   ]
  },
  {
   "cell_type": "code",
   "execution_count": null,
   "id": "4a8a3b3c-86c4-4a1c-9f77-a74400d216ad",
   "metadata": {},
   "outputs": [],
   "source": [
    "text = (\n",
    "    \"LINEヤフー株式会社（以下、LINEヤフー）は、ニュースや天気、検索など生活に役立つさまざまな機能が\"\n",
    "    \"利用できる「Yahoo! JAPAN」アプリ（iOS版）において、最大72時間先までの世界中の風速と風向の予報が、\"\n",
    "    \"流れる線のアニメーションで視覚的にわかる「風レーダー」（以下、本機能）の提供を開始しました。\"\n",
    "    \"本機能は、「Yahoo!天気」アプリにて（※1）ユーザーから高い評価を得ており、\"\n",
    "    \"今年8月には「Yahoo! JAPAN」アプリ（Android版）でも提供開始（※2）しています。\"\n",
    "    \"今回「Yahoo! JAPAN」アプリ（iOS版）にも追加することで、「Yahoo! JAPAN」アプリの天気情報の提供を強化するとともに、\"\n",
    "    \"生活に必要な幅広い情報を「Yahoo! JAPAN」アプリ一つでカバーできることを目指します。\"\n",
    ")\n",
    "\n",
    "visualize_keyphrase(text)\n"
   ]
  }
 ],
 "metadata": {
  "kernelspec": {
   "display_name": "Python 3 (ipykernel)",
   "language": "python",
   "name": "python3"
  },
  "language_info": {
   "codemirror_mode": {
    "name": "ipython",
    "version": 3
   },
   "file_extension": ".py",
   "mimetype": "text/x-python",
   "name": "python",
   "nbconvert_exporter": "python",
   "pygments_lexer": "ipython3",
   "version": "3.11.5"
  },
  "vscode": {
   "interpreter": {
    "hash": "b0fa6594d8f4cbf19f97940f81e996739fb7646882a419484c72d19e05852a7e"
   }
  }
 },
 "nbformat": 4,
 "nbformat_minor": 5
}
