{
 "cells": [
  {
   "cell_type": "code",
   "execution_count": null,
   "id": "5a3d7c57-e2e2-4dae-92c0-1c26916d3808",
   "metadata": {
    "tags": []
   },
   "outputs": [],
   "source": [
    "import json\n",
    "from urllib import request\n",
    "APPID = \"あなたの Client ID（アプリケーション ID）\"\n",
    "URL = \"https://jlp.yahooapis.jp/KeyphraseService/V2/extract\"\n",
    "headers = {\n",
    "    \"Content-Type\": \"application/json\",\n",
    "    \"User-Agent\": \"Yahoo AppID: {}\".format(APPID),\n",
    "}\n",
    "param_dic = {\n",
    "    \"id\": \"1234-1\",\n",
    "    \"jsonrpc\": \"2.0\",\n",
    "    \"params\": {}\n",
    "}\n",
    "def keyphrase_service(query):\n",
    "    param_dic['params']['q'] = query\n",
    "    param_dic['method'] = \"jlp.keyphraseservice.extract\"\n",
    "    params = json.dumps(param_dic).encode()\n",
    "    req = request.Request(URL, params, headers)\n",
    "    with request.urlopen(req) as res:\n",
    "        body = res.read()        \n",
    "    return json.loads(body.decode())['result']['phrases']\n",
    "\n",
    "# 動作テスト\n",
    "keyphrase_service('そういえば夏休みに東京タワーに行ったのを思い出しました')"
   ]
  },
  {
   "cell_type": "code",
   "execution_count": null,
   "id": "8131cc7a-4c1c-4e46-9020-260d39ccb2d2",
   "metadata": {
    "tags": []
   },
   "outputs": [],
   "source": [
    "sentences = [\n",
    "    \"国会は、国権の最高機関であって、国の唯一の立法機関である。\",\n",
    "    \"国会は、衆議院及び参議院の両議院でこれを構成する。\",\n",
    "    \"両議院は、全国民を代表する選挙された議員でこれを組織する。\",\n",
    "    \"両議院の議員の定数は、法律でこれを定める。\",\n",
    "    \"両議院の議員及びその選挙人の資格は、法律でこれを定める。\",\n",
    "    \"但し、人種、信条、性別、社会的身分、門地、教育、財産又は収入によって差別してはならない。\",\n",
    "]"
   ]
  },
  {
   "cell_type": "code",
   "execution_count": null,
   "id": "f1042080-5670-43a3-94d3-8ddb00bc9838",
   "metadata": {
    "tags": []
   },
   "outputs": [],
   "source": [
    "kps_list = [keyphrase_service(sentence) for sentence in sentences]\n",
    "\n",
    "all_keyphrases = [kp['text'] for kps in kps_list for kp in kps]\n",
    "\n",
    "import collections\n",
    "ct_keyphrases = collections.Counter(all_keyphrases)"
   ]
  },
  {
   "cell_type": "code",
   "execution_count": null,
   "id": "cf9df6ee-af6f-4adc-afc5-7d866bd17a11",
   "metadata": {
    "tags": []
   },
   "outputs": [],
   "source": [
    "import matplotlib.pyplot as plt\n",
    "from wordcloud import WordCloud\n",
    "\n",
    "wordcloud = WordCloud(\n",
    "    font_path='/mnt/c/Windows/Fonts/HGRSGU.TTC',\n",
    "    background_color=\"white\", width=600, height=400,\n",
    "    collocations=False, colormap='Dark2', random_state=0\n",
    ")\n",
    "wordcloud.generate_from_frequencies(ct_keyphrases)\n",
    "\n",
    "fig, ax = plt.subplots(1,1, figsize=(10,10))\n",
    "ax.axes.xaxis.set_visible(False)\n",
    "ax.axes.yaxis.set_visible(False)\n",
    "ax.imshow(wordcloud)"
   ]
  }
 ],
 "metadata": {
  "kernelspec": {
   "display_name": "Python 3 (ipykernel)",
   "language": "python",
   "name": "python3"
  },
  "language_info": {
   "codemirror_mode": {
    "name": "ipython",
    "version": 3
   },
   "file_extension": ".py",
   "mimetype": "text/x-python",
   "name": "python",
   "nbconvert_exporter": "python",
   "pygments_lexer": "ipython3",
   "version": "3.8.8"
  }
 },
 "nbformat": 4,
 "nbformat_minor": 5
}
