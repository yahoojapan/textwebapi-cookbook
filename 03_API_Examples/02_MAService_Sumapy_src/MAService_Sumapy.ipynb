{
 "cells": [
  {
   "cell_type": "code",
   "execution_count": null,
   "id": "d307e775-5b93-4505-a399-78f7688c57aa",
   "metadata": {
    "tags": []
   },
   "outputs": [],
   "source": [
    "### 入力文とマッチさせる辞書\n",
    "sentence = 'ピエトロ氏、ドレッシングはピエロ事件。'\n",
    "dic = {\n",
    "    'エロ': 'ero',\n",
    "    'シング': 'sing',\n",
    "    'ピエトロ': 'pietro',\n",
    "    '良い天気': 'yoitenki',\n",
    "    '事件': 'jiken',\n",
    "}\n",
    "print('入力文:', sentence)\n",
    "\n",
    "### （C1）正規表現でマッチさせる\n",
    "import re\n",
    "pattern = '|'.join(map(lambda x: re.escape(x),\n",
    "                   sorted(dic.keys(), key=len, reverse=True)))\n",
    "for m in re.finditer(pattern, sentence):\n",
    "    print(\"MATCH!\", m.span(), m.string[m.start():m.end()])"
   ]
  },
  {
   "cell_type": "code",
   "execution_count": null,
   "id": "851d2ba9-0ca4-44bc-a5f0-6bf5cdc72eb9",
   "metadata": {
    "tags": []
   },
   "outputs": [],
   "source": [
    "### テキスト解析 Web API の日本語形態素解析を用いて、テキストを形態素の表層文字列のリストに変換\n",
    "def sentence_to_tokens(query):\n",
    "    import json\n",
    "    from urllib import request\n",
    "    APPID = \"あなたの Client ID（アプリケーション ID）\"\n",
    "    URL = \"https://jlp.yahooapis.jp/MAService/V2/parse\"\n",
    "    params = json.dumps({\n",
    "        \"id\": \"1234-1\",\n",
    "        \"jsonrpc\": \"2.0\",\n",
    "        \"method\": \"jlp.maservice.parse\",\n",
    "        \"params\": {\"q\": query}\n",
    "    }).encode()\n",
    "    headers = {\n",
    "        \"Content-Type\": \"application/json\",\n",
    "        \"User-Agent\": \"Yahoo AppID: {}\".format(APPID),\n",
    "    }\n",
    "    req = request.Request(URL, params, headers)\n",
    "    with request.urlopen(req) as res:\n",
    "        body = res.read()\n",
    "    obj = json.loads(body.decode())\n",
    "    return [x[0] for x in obj['result']['tokens']]\n",
    "\n",
    "\n",
    "### 入力文とマッチさせる辞書\n",
    "sentence = 'ピエトロ氏、ドレッシングはピエロ事件。'\n",
    "dic = {\n",
    "    'エロ': 'ero',\n",
    "    'シング': 'sing',\n",
    "    'ピエトロ': 'pietro',\n",
    "    '良い天気': 'yoitenki',\n",
    "    '事件': 'jiken',\n",
    "}\n",
    "print('入力文:', sentence)\n",
    "\n",
    "### （M1）文を形態素に分割\n",
    "tokens = sentence_to_tokens(sentence)\n",
    "print('形態素:', tokens)\n",
    "\n",
    "### （M2）形態素区切り位置を保存\n",
    "kugiri_positions = set(sum(len(token) for token in tokens[:i])\n",
    "                       for i in range(0, len(tokens) + 1))\n",
    "print('区切り位置:', kugiri_positions)\n",
    "\n",
    "### （M3）辞書にマッチさせる\n",
    "for current_position in kugiri_positions:\n",
    "    for entry in dic.keys():\n",
    "        end_position = current_position + len(entry)\n",
    "        if end_position not in kugiri_positions:\n",
    "            continue\n",
    "        if sentence[current_position:].startswith(entry):\n",
    "            print(\"MATCH!\", (current_position, end_position), entry, dic[entry])"
   ]
  }
 ],
 "metadata": {
  "kernelspec": {
   "display_name": "Python 3 (ipykernel)",
   "language": "python",
   "name": "python3"
  },
  "language_info": {
   "codemirror_mode": {
    "name": "ipython",
    "version": 3
   },
   "file_extension": ".py",
   "mimetype": "text/x-python",
   "name": "python",
   "nbconvert_exporter": "python",
   "pygments_lexer": "ipython3",
   "version": "3.8.8"
  }
 },
 "nbformat": 4,
 "nbformat_minor": 5
}
