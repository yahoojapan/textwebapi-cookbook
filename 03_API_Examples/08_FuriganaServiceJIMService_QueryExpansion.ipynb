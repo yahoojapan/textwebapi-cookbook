{
 "cells": [
  {
   "attachments": {},
   "cell_type": "markdown",
   "id": "53ec82cc",
   "metadata": {},
   "source": [
    "# ルビ振り・かな漢字変換を用いたクエリ拡張\n",
    "ドキュメントは作成者により、ひらがなを使用したり、漢字を使用したりと、表記揺れが存在します。<br>\n",
    "そのため、例えば「薔薇」を検索クエリとして使用しても、「ばら」と記述されたドキュメントは検出されず見つけ出すことはできません。\n",
    "\n",
    "情報検索の領域では、この問題に対処するために、「クエリ拡張」と呼ばれる方法が用いられます。これにより、表記揺れをOR検索します。<br>\n",
    "例えば、「薔薇」に対しては、「薔薇 OR ばら OR バラ」のようにクエリを拡張することが可能です。\n",
    "\n",
    "本記事では、テキスト解析 Web API のルビ振りやかな漢字変換を使用し、簡単なクエリ拡張を実現する方法について解説します。"
   ]
  },
  {
   "attachments": {},
   "cell_type": "markdown",
   "id": "243201e1",
   "metadata": {},
   "source": [
    "## Pythonからリクエストするメソッドを用意\n",
    "ルビ振り・かな漢字変換の機能を使うためのメソッドを定義します。\n",
    "これらを用いてクエリ拡張を行います。"
   ]
  },
  {
   "cell_type": "code",
   "execution_count": 1,
   "id": "6690413c",
   "metadata": {},
   "outputs": [],
   "source": [
    "import json\n",
    "from urllib import request\n",
    "\n",
    "APPID = 'あなたの Client ID（アプリケーション ID）' \n",
    "FURIGANA_URL = \"https://jlp.yahooapis.jp/FuriganaService/V2/furigana\"\n",
    "KANAKAN_URL = \"https://jlp.yahooapis.jp/JIMService/V2/conversion\"\n",
    "\n",
    "\n",
    "def post_furigana_service(query: str) -> str:\n",
    "    headers = {\n",
    "        \"Content-Type\": \"application/json\",\n",
    "        \"User-Agent\": \"Yahoo AppID: {}\".format(APPID),\n",
    "    }\n",
    "    param_dic = {\n",
    "        \"id\": \"1234-1\",\n",
    "        \"jsonrpc\": \"2.0\",\n",
    "        \"method\": \"jlp.furiganaservice.furigana\",\n",
    "        \"params\": {\"q\": query},\n",
    "    }\n",
    "    params = json.dumps(param_dic).encode()\n",
    "    req = request.Request(FURIGANA_URL, params, headers)\n",
    "    with request.urlopen(req) as res:\n",
    "        body = res.read()\n",
    "    return body.decode()\n",
    "\n",
    "def post_kanakan_service(query: str) -> str:\n",
    "    headers = {\n",
    "        \"Content-Type\": \"application/json\",\n",
    "        \"User-Agent\": \"Yahoo AppID: {}\".format(APPID),\n",
    "    }\n",
    "    param_dic = {\n",
    "        \"id\": \"1234-1\",\n",
    "        \"jsonrpc\": \"2.0\",\n",
    "        \"method\": \"jlp.jimservice.conversion\",\n",
    "        \"params\": {\"q\": query},\n",
    "    }\n",
    "    params = json.dumps(param_dic).encode()\n",
    "    req = request.Request(KANAKAN_URL, params, headers)\n",
    "    with request.urlopen(req) as res:\n",
    "        body = res.read()\n",
    "    return body.decode()"
   ]
  },
  {
   "attachments": {},
   "cell_type": "markdown",
   "id": "e1a2d4d8",
   "metadata": {},
   "source": [
    "（※）Client ID については[こちら](../02_API_Specifications/00_Overview.md#client-id%E3%82%A2%E3%83%97%E3%83%AA%E3%82%B1%E3%83%BC%E3%82%B7%E3%83%A7%E3%83%B3id)をご覧ください。"
   ]
  },
  {
   "cell_type": "code",
   "execution_count": 3,
   "id": "94516a4b",
   "metadata": {},
   "outputs": [
    {
     "data": {
      "text/plain": [
       "'{\"id\":\"1234-1\",\"jsonrpc\":\"2.0\",\"result\":{\"word\":[{\"furigana\":\"きょう\",\"roman\":\"kyou\",\"surface\":\"今日\"},{\"furigana\":\"は\",\"roman\":\"ha\",\"surface\":\"は\"},{\"furigana\":\"いい\",\"roman\":\"ii\",\"surface\":\"いい\"},{\"furigana\":\"てんき\",\"roman\":\"tenki\",\"surface\":\"天気\"},{\"furigana\":\"です\",\"roman\":\"desu\",\"surface\":\"です\"}]}}'"
      ]
     },
     "execution_count": 3,
     "metadata": {},
     "output_type": "execute_result"
    }
   ],
   "source": [
    "# ルビ振りの結果を確認\n",
    "q = \"今日はいい天気です\"\n",
    "post_furigana_service(q)"
   ]
  },
  {
   "cell_type": "code",
   "execution_count": 4,
   "id": "48da6e33",
   "metadata": {},
   "outputs": [
    {
     "data": {
      "text/plain": [
       "'{\"id\":\"1234-1\",\"jsonrpc\":\"2.0\",\"result\":{\"segment\":[{\"candidate\":[\"今日は\",\"きょうは\",\"教派\",\"興は\",\"京は\",\"強は\",\"経は\",\"教は\",\"境は\",\"凶は\",\"卿は\",\"峡は\",\"協は\",\"香は\",\"恭は\",\"享は\"],\"reading\":\"きょうは\"},{\"candidate\":[\"いい\",\"良い\",\"言い\",\"好い\",\"善い\",\"飯\",\"唯々\",\"謂\",\"伊井\",\"井伊\",\"云い\",\"謂い\",\"遺意\"],\"reading\":\"いい\"},{\"candidate\":[\"天気です\",\"転機です\",\"転記です\",\"転帰です\",\"天機です\",\"てんきです\"],\"reading\":\"てんきです\"}]}}'"
      ]
     },
     "execution_count": 4,
     "metadata": {},
     "output_type": "execute_result"
    }
   ],
   "source": [
    "# かな漢字変換の結果を確認\n",
    "q = \"きょうはいいてんきです\"\n",
    "post_kanakan_service(q)"
   ]
  },
  {
   "attachments": {},
   "cell_type": "markdown",
   "id": "9d52828c",
   "metadata": {},
   "source": [
    "## クエリ拡張を行う\n",
    "上述のメソッドを使用してテキスト解析 Web API のルビ振りとかな漢字変換にアクセスし、対象クエリの「ひらがな」、「ローマ字」、および「かな漢字候補の一番目」を取得します。<br>\n",
    "これらはクエリ拡張に使用します。"
   ]
  },
  {
   "cell_type": "code",
   "execution_count": 5,
   "id": "3d7df9fd",
   "metadata": {},
   "outputs": [],
   "source": [
    "from typing import List\n",
    "\n",
    "def expand_query(q: str) -> List[str]:\n",
    "    # ルビ振りの結果を取得\n",
    "    res_furigana = json.loads(post_furigana_service(q))\n",
    "    # ひらがなの結果を取得\n",
    "    q_hiragana = \"\".join([ seg[\"furigana\"] if \"furigana\" in seg else seg[\"surface\"]\n",
    "                                              for seg in res_furigana[\"result\"][\"word\"]])\n",
    "    # ローマ字の結果を取得\n",
    "    q_roman = \"\".join([ seg[\"roman\"] if \"roman\" in seg else seg[\"surface\"] \n",
    "                                           for seg in res_furigana[\"result\"][\"word\"]])\n",
    "    # ひらがなの結果を用いて、かな漢字変換の結果を取得\n",
    "    res_kanakan = json.loads(post_kanakan_service(q_hiragana))\n",
    "    # 今回はかな漢字変換候補の一番目を利用\n",
    "    q_kanakan = \"\".join([ seg[\"candidate\"][0] for seg in res_kanakan[\"result\"][\"segment\"]])\n",
    "    \n",
    "    or_words = list(set([q, q_hiragana, q_roman, q_kanakan]))\n",
    "    return or_words"
   ]
  },
  {
   "cell_type": "code",
   "execution_count": 6,
   "id": "c5ee55bf",
   "metadata": {},
   "outputs": [
    {
     "data": {
      "text/plain": [
       "['ブタ肉', 'ぶたにく', '豚肉', 'butaniku']"
      ]
     },
     "execution_count": 6,
     "metadata": {},
     "output_type": "execute_result"
    }
   ],
   "source": [
    "q = \"ブタ肉\"\n",
    "expand_query(q)"
   ]
  },
  {
   "attachments": {},
   "cell_type": "markdown",
   "id": "3af98d0d",
   "metadata": {},
   "source": [
    " # 実行例\n",
    "サンプルのドキュメント集合を用意し、先ほど拡張したクエリで OR 検索を行ってみます。"
   ]
  },
  {
   "cell_type": "code",
   "execution_count": null,
   "id": "2d684d52",
   "metadata": {},
   "outputs": [],
   "source": [
    "!pip3 install pandas"
   ]
  },
  {
   "cell_type": "code",
   "execution_count": 7,
   "id": "90f41ea9",
   "metadata": {},
   "outputs": [
    {
     "data": {
      "text/html": [
       "<div>\n",
       "<style scoped>\n",
       "    .dataframe tbody tr th:only-of-type {\n",
       "        vertical-align: middle;\n",
       "    }\n",
       "\n",
       "    .dataframe tbody tr th {\n",
       "        vertical-align: top;\n",
       "    }\n",
       "\n",
       "    .dataframe thead th {\n",
       "        text-align: right;\n",
       "    }\n",
       "</style>\n",
       "<table border=\"1\" class=\"dataframe\">\n",
       "  <thead>\n",
       "    <tr style=\"text-align: right;\">\n",
       "      <th></th>\n",
       "      <th>text</th>\n",
       "    </tr>\n",
       "  </thead>\n",
       "  <tbody>\n",
       "    <tr>\n",
       "      <th>0</th>\n",
       "      <td>豚肉と野菜の炒め</td>\n",
       "    </tr>\n",
       "    <tr>\n",
       "      <th>1</th>\n",
       "      <td>牛肉のすき焼き</td>\n",
       "    </tr>\n",
       "    <tr>\n",
       "      <th>2</th>\n",
       "      <td>ブタ肉の回鍋肉</td>\n",
       "    </tr>\n",
       "    <tr>\n",
       "      <th>3</th>\n",
       "      <td>butaniku shabu shabu</td>\n",
       "    </tr>\n",
       "    <tr>\n",
       "      <th>4</th>\n",
       "      <td>チキンカレー</td>\n",
       "    </tr>\n",
       "  </tbody>\n",
       "</table>\n",
       "</div>"
      ],
      "text/plain": [
       "                   text\n",
       "0              豚肉と野菜の炒め\n",
       "1               牛肉のすき焼き\n",
       "2               ブタ肉の回鍋肉\n",
       "3  butaniku shabu shabu\n",
       "4                チキンカレー"
      ]
     },
     "execution_count": 7,
     "metadata": {},
     "output_type": "execute_result"
    }
   ],
   "source": [
    "import pandas as pd\n",
    "\n",
    "documents = pd.DataFrame({\n",
    "    \"text\": [\n",
    "        \"豚肉と野菜の炒め\",\n",
    "        \"牛肉のすき焼き\",\n",
    "        \"ブタ肉の回鍋肉\",\n",
    "        \"butaniku shabu shabu\",\n",
    "        \"チキンカレー\"\n",
    "    ]\n",
    "})\n",
    "documents"
   ]
  },
  {
   "attachments": {},
   "cell_type": "markdown",
   "id": "02990fd4",
   "metadata": {},
   "source": [
    "### クエリを拡張せずに検索を行った場合"
   ]
  },
  {
   "cell_type": "code",
   "execution_count": 8,
   "id": "11e0d38b",
   "metadata": {},
   "outputs": [
    {
     "name": "stdout",
     "output_type": "stream",
     "text": [
      "text.str.contains(\"ブタ肉\")\n"
     ]
    },
    {
     "data": {
      "text/html": [
       "<div>\n",
       "<style scoped>\n",
       "    .dataframe tbody tr th:only-of-type {\n",
       "        vertical-align: middle;\n",
       "    }\n",
       "\n",
       "    .dataframe tbody tr th {\n",
       "        vertical-align: top;\n",
       "    }\n",
       "\n",
       "    .dataframe thead th {\n",
       "        text-align: right;\n",
       "    }\n",
       "</style>\n",
       "<table border=\"1\" class=\"dataframe\">\n",
       "  <thead>\n",
       "    <tr style=\"text-align: right;\">\n",
       "      <th></th>\n",
       "      <th>text</th>\n",
       "    </tr>\n",
       "  </thead>\n",
       "  <tbody>\n",
       "    <tr>\n",
       "      <th>2</th>\n",
       "      <td>ブタ肉の回鍋肉</td>\n",
       "    </tr>\n",
       "  </tbody>\n",
       "</table>\n",
       "</div>"
      ],
      "text/plain": [
       "      text\n",
       "2  ブタ肉の回鍋肉"
      ]
     },
     "execution_count": 8,
     "metadata": {},
     "output_type": "execute_result"
    }
   ],
   "source": [
    "q = \"ブタ肉\"\n",
    "pd_query = f'text.str.contains(\"{q}\")' #<列名>.str.contains（<テキスト>）を用いることで<列名>に<テキスト>を含む行を取得できる\n",
    "print(pd_query) \n",
    "documents.query(pd_query)"
   ]
  },
  {
   "attachments": {},
   "cell_type": "markdown",
   "id": "8bfc8d69",
   "metadata": {},
   "source": [
    "### クエリを拡張して検索を行った場合"
   ]
  },
  {
   "cell_type": "code",
   "execution_count": 9,
   "id": "cc929f56",
   "metadata": {},
   "outputs": [
    {
     "name": "stdout",
     "output_type": "stream",
     "text": [
      "text.str.contains(\"ブタ肉\") or text.str.contains(\"ぶたにく\") or text.str.contains(\"豚肉\") or text.str.contains(\"butaniku\")\n"
     ]
    },
    {
     "data": {
      "text/html": [
       "<div>\n",
       "<style scoped>\n",
       "    .dataframe tbody tr th:only-of-type {\n",
       "        vertical-align: middle;\n",
       "    }\n",
       "\n",
       "    .dataframe tbody tr th {\n",
       "        vertical-align: top;\n",
       "    }\n",
       "\n",
       "    .dataframe thead th {\n",
       "        text-align: right;\n",
       "    }\n",
       "</style>\n",
       "<table border=\"1\" class=\"dataframe\">\n",
       "  <thead>\n",
       "    <tr style=\"text-align: right;\">\n",
       "      <th></th>\n",
       "      <th>text</th>\n",
       "    </tr>\n",
       "  </thead>\n",
       "  <tbody>\n",
       "    <tr>\n",
       "      <th>0</th>\n",
       "      <td>豚肉と野菜の炒め</td>\n",
       "    </tr>\n",
       "    <tr>\n",
       "      <th>2</th>\n",
       "      <td>ブタ肉の回鍋肉</td>\n",
       "    </tr>\n",
       "    <tr>\n",
       "      <th>3</th>\n",
       "      <td>butaniku shabu shabu</td>\n",
       "    </tr>\n",
       "  </tbody>\n",
       "</table>\n",
       "</div>"
      ],
      "text/plain": [
       "                   text\n",
       "0              豚肉と野菜の炒め\n",
       "2               ブタ肉の回鍋肉\n",
       "3  butaniku shabu shabu"
      ]
     },
     "execution_count": 9,
     "metadata": {},
     "output_type": "execute_result"
    }
   ],
   "source": [
    "q = \"ブタ肉\"\n",
    "pd_query = ' or '.join([f'text.str.contains(\"{q_i}\")' for q_i in expand_query(q)])\n",
    "print(pd_query)\n",
    "documents.query(pd_query)"
   ]
  },
  {
   "attachments": {},
   "cell_type": "markdown",
   "id": "bf6c1397",
   "metadata": {},
   "source": [
    "元のクエリを使用した場合、関連するドキュメントが1件しか見つからなかったのに対し、クエリを拡張して検索することで、関連するドキュメントを1件から3件に増やすことができました。\n",
    "\n",
    "本記事では、簡単な例として実装しましたが、複数のタームを考慮に入れたり、かな漢字変換候補の2, 3番目を利用するなど、さまざまな工夫が可能です。<br>\n",
    "ただし、クエリを過度に拡張すると、関連のないドキュメントも検索結果に含まれてしまう可能性があるため、その点には注意が必要です。\n",
    "\n",
    "さらに今回使用したルビ振りとかな漢字変換の機能以外にもクエリ拡張に役立つ機能が存在します。これらを活用して、より高度なクエリ拡張を試みてみてください。"
   ]
  },
  {
   "attachments": {},
   "cell_type": "markdown",
   "id": "258130c9",
   "metadata": {},
   "source": [
    "## 使用しているテキスト解析 Web API\n",
    "- [ルビ振り](../02_API_Specifications/03_FuriganaService.md)\n",
    "- [かな漢字変換](../02_API_Specifications/02_JIMService.md)"
   ]
  },
  {
   "attachments": {},
   "cell_type": "markdown",
   "id": "d67acb07",
   "metadata": {},
   "source": [
    "## 著者\n",
    "LINEヤフー株式会社 言語処理エンジニア  \n",
    "伊奈 拓郎（[@tuna_takenoko](https://x.com/tuna_takenoko)）"
   ]
  }
 ],
 "metadata": {
  "kernelspec": {
   "display_name": "Python 3 (ipykernel)",
   "language": "python",
   "name": "python3"
  },
  "language_info": {
   "codemirror_mode": {
    "name": "ipython",
    "version": 3
   },
   "file_extension": ".py",
   "mimetype": "text/x-python",
   "name": "python",
   "nbconvert_exporter": "python",
   "pygments_lexer": "ipython3",
   "version": "3.9.18"
  },
  "vscode": {
   "interpreter": {
    "hash": "31f2aee4e71d21fbe5cf8b01ff0e069b9275f58929596ceb00d14d90e3e16cd6"
   }
  }
 },
 "nbformat": 4,
 "nbformat_minor": 5
}
